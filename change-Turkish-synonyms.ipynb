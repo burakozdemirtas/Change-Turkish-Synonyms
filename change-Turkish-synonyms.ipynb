{
 "cells": [
  {
   "cell_type": "code",
   "execution_count": 1,
   "metadata": {},
   "outputs": [],
   "source": [
    "import pandas as pd\n",
    "\n",
    "df = pd.read_csv('esanlamlilar.csv')\n",
    "synonyms_dict = {}\n",
    "\n",
    "for i, row in df.iterrows():\n",
    "    word = row['kelime']\n",
    "    synonyms = [row['esanlam'], row['esanlam2'], row['esanlam3'], row['esanlam4']]\n",
    "    synonyms = [syn for syn in synonyms if str(syn) != 'nan'] # NaN değerleri kaldırma\n",
    "    synonyms_dict[word] = synonyms\n"
   ]
  },
  {
   "cell_type": "code",
   "execution_count": 2,
   "metadata": {},
   "outputs": [
    {
     "name": "stdout",
     "output_type": "stream",
     "text": [
      " boyut\n"
     ]
    }
   ],
   "source": [
    "message = \"durum\"\n",
    "words = message.split()\n",
    "\n",
    "for i in range(len(words)):\n",
    "    if words[i] in synonyms_dict:\n",
    "        synonyms = synonyms_dict[words[i]]\n",
    "        words[i] = synonyms[0]  # burada ilk eş anlamlı kelimeyi seçtik, isterseniz rastgele bir kelime de seçebilirsiniz\n",
    "\n",
    "new_message = ' '.join(words)\n",
    "print(new_message)\n"
   ]
  }
 ],
 "metadata": {
  "kernelspec": {
   "display_name": "Python 3.10.5 64-bit",
   "language": "python",
   "name": "python3"
  },
  "language_info": {
   "codemirror_mode": {
    "name": "ipython",
    "version": 3
   },
   "file_extension": ".py",
   "mimetype": "text/x-python",
   "name": "python",
   "nbconvert_exporter": "python",
   "pygments_lexer": "ipython3",
   "version": "3.10.5"
  },
  "orig_nbformat": 4,
  "vscode": {
   "interpreter": {
    "hash": "77166de1c351ea371dae0ccf672aa0a3558769c714b5389e36a0c264c40ed330"
   }
  }
 },
 "nbformat": 4,
 "nbformat_minor": 2
}
